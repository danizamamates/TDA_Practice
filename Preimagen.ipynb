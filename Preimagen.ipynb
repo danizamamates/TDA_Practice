{
 "cells": [
  {
   "cell_type": "markdown",
   "id": "cdb07ae7",
   "metadata": {},
   "source": [
    "# Problema 1"
   ]
  },
  {
   "cell_type": "code",
   "execution_count": 154,
   "id": "4a189a86",
   "metadata": {},
   "outputs": [],
   "source": [
    "x = {-4,-3,-2,-1,0,1,2,3,4}\n",
    "y = {0,1,4,9,16}\n",
    "def f(x) : return x**2"
   ]
  },
  {
   "cell_type": "code",
   "execution_count": 280,
   "id": "002c9f18",
   "metadata": {},
   "outputs": [],
   "source": [
    "def finv(f, E, D) :\n",
    "    y = set()\n",
    "    x = set()\n",
    "    for n in D:\n",
    "        y.add(f(n))\n",
    "    for out in E :\n",
    "        if(out in y) :\n",
    "            for inp in D :\n",
    "                if (f(inp) == out) :\n",
    "                    x.add(inp)\n",
    "                    \n",
    "\n",
    "    return x"
   ]
  },
  {
   "cell_type": "code",
   "execution_count": 279,
   "id": "a6f8d258",
   "metadata": {
    "scrolled": false
   },
   "outputs": [
    {
     "name": "stdout",
     "output_type": "stream",
     "text": [
      "{0}\n",
      "{0, 1}\n",
      "{0, 1, -1}\n",
      "{0, 1, 4, -1}\n",
      "{0, 1, 4, -4, -1}\n",
      "{0, 1, 2, 4, -4, -1}\n",
      "{0, 1, 2, 4, -2, -4, -1}\n",
      "{0, 1, 2, 3, 4, -2, -4, -1}\n",
      "{0, 1, 2, 3, 4, -2, -4, -3, -1}\n"
     ]
    },
    {
     "data": {
      "text/plain": [
       "{-4, -3, -2, -1, 0, 1, 2, 3, 4}"
      ]
     },
     "execution_count": 279,
     "metadata": {},
     "output_type": "execute_result"
    }
   ],
   "source": [
    "finv(f, y, x)"
   ]
  },
  {
   "cell_type": "markdown",
   "id": "ecf83fe7",
   "metadata": {},
   "source": [
    "# Problema 2"
   ]
  },
  {
   "cell_type": "code",
   "execution_count": 86,
   "id": "08445654",
   "metadata": {},
   "outputs": [],
   "source": [
    "tD = [{}, {0}, {-3,-1,1,3}, {-4,-2,2,4}, {-3,-1,0,1,3}, {-4,2,0,2,4}, {-4,-3,-2,-1,1,2,3,4}, {-4,-3,-2,-1,0,1,2,3,4}]\n",
    "tI = [{}, {0}, {1,9}, {4,16}, {0,1,9}, {0,4,16}, {1,4,9,16}, {0,1,4,9,16}]"
   ]
  },
  {
   "cell_type": "code",
   "execution_count": 176,
   "id": "3e2c0201",
   "metadata": {},
   "outputs": [],
   "source": [
    "def finvtopo(f, E, D) :\n",
    "    yinv = list()\n",
    "    for e in E :\n",
    "        for d in D :\n",
    "            inv = set((finv(f,e,d)))\n",
    "            if inv not in yinv:\n",
    "                yinv.append(inv)\n",
    "    return yinv"
   ]
  },
  {
   "cell_type": "code",
   "execution_count": null,
   "id": "df005f8b",
   "metadata": {},
   "outputs": [],
   "source": [
    "def esContinua(f, tD, tI) :\n",
    "    for i in tI:\n",
    "        sale = 0\n",
    "        for d in tD :\n",
    "            if(finv(f, i, d) in tD) :\n",
    "                sale = 1\n",
    "            else :\n",
    "                sale = 0\n",
    "        if(sale == 0) :\n",
    "            return 'No es continua'\n",
    "    return 'Es continua'"
   ]
  },
  {
   "cell_type": "code",
   "execution_count": 177,
   "id": "cb31c8ed",
   "metadata": {
    "scrolled": true
   },
   "outputs": [
    {
     "data": {
      "text/plain": [
       "[set(),\n",
       " {0},\n",
       " {-3, -1, 1, 3},\n",
       " {-4, -2, 2, 4},\n",
       " {-4, 2, 4},\n",
       " {-3, -1, 0, 1, 3},\n",
       " {-4, 0, 2, 4},\n",
       " {-4, -2, 0, 2, 4},\n",
       " {-4, -3, -2, -1, 1, 2, 3, 4},\n",
       " {-4, -3, -2, -1, 0, 1, 2, 3, 4}]"
      ]
     },
     "execution_count": 177,
     "metadata": {},
     "output_type": "execute_result"
    }
   ],
   "source": [
    "finvtopo(f, tI, tD)"
   ]
  },
  {
   "cell_type": "code",
   "execution_count": 281,
   "id": "ab7fc879",
   "metadata": {},
   "outputs": [
    {
     "data": {
      "text/plain": [
       "'Es continua'"
      ]
     },
     "execution_count": 281,
     "metadata": {},
     "output_type": "execute_result"
    }
   ],
   "source": [
    "esContinua(f, tI, tD)"
   ]
  },
  {
   "cell_type": "markdown",
   "id": "4c9e518a",
   "metadata": {},
   "source": [
    "# Problema 3"
   ]
  },
  {
   "cell_type": "code",
   "execution_count": 258,
   "id": "0a995592",
   "metadata": {},
   "outputs": [],
   "source": [
    "def discreteTopo(X) :\n",
    "    discrete = []\n",
    "    discrete.append(set())\n",
    "    while len(discrete) != 2**len(X) :\n",
    "        for x in X :\n",
    "            for y in discrete :\n",
    "                #print({x})\n",
    "                union = y.union({x})\n",
    "                if(union not in discrete) :\n",
    "                    discrete.append(union)\n",
    "    return discrete\n",
    "                \n",
    "        "
   ]
  },
  {
   "cell_type": "markdown",
   "id": "c0122d97",
   "metadata": {},
   "source": [
    "a)"
   ]
  },
  {
   "cell_type": "code",
   "execution_count": 224,
   "id": "761f103b",
   "metadata": {},
   "outputs": [
    {
     "data": {
      "text/plain": [
       "'Es continua'"
      ]
     },
     "execution_count": 224,
     "metadata": {},
     "output_type": "execute_result"
    }
   ],
   "source": [
    "tD = [set(), x]\n",
    "tI = [set(), y]\n",
    "esContinua(f, tD, tI)"
   ]
  },
  {
   "cell_type": "markdown",
   "id": "4fc3bf07",
   "metadata": {},
   "source": [
    "b)"
   ]
  },
  {
   "cell_type": "code",
   "execution_count": 265,
   "id": "e8861ab7",
   "metadata": {},
   "outputs": [
    {
     "data": {
      "text/plain": [
       "'Es continua'"
      ]
     },
     "execution_count": 265,
     "metadata": {},
     "output_type": "execute_result"
    }
   ],
   "source": [
    "tI = discreteTopo(y)\n",
    "def f2(x) : return 0\n",
    "esContinua(f2, tI, tI)"
   ]
  },
  {
   "cell_type": "markdown",
   "id": "a35c9653",
   "metadata": {},
   "source": [
    "c)"
   ]
  },
  {
   "cell_type": "code",
   "execution_count": 267,
   "id": "49711e90",
   "metadata": {
    "scrolled": true
   },
   "outputs": [
    {
     "data": {
      "text/plain": [
       "'Es continua'"
      ]
     },
     "execution_count": 267,
     "metadata": {},
     "output_type": "execute_result"
    }
   ],
   "source": [
    "tD = discreteTopo(x)\n",
    "def f3(x) : return -x\n",
    "esContinua(f3, tD, tD)"
   ]
  },
  {
   "cell_type": "markdown",
   "id": "01095cad",
   "metadata": {},
   "source": [
    "d)"
   ]
  },
  {
   "cell_type": "code",
   "execution_count": 270,
   "id": "4877fc04",
   "metadata": {},
   "outputs": [
    {
     "data": {
      "text/plain": [
       "'Es continua'"
      ]
     },
     "execution_count": 270,
     "metadata": {},
     "output_type": "execute_result"
    }
   ],
   "source": [
    "tD = [set(), {0},{-4,-3,-2,-1}, {1,2,3,4}, {0,1,2,3,4}, {0,-1,-2,-3,-4},{-4,-3,-2,-1,1,2,3,4}, x]\n",
    "esContinua(f3, tD, tD)"
   ]
  }
 ],
 "metadata": {
  "kernelspec": {
   "display_name": "Python 3 (ipykernel)",
   "language": "python",
   "name": "python3"
  },
  "language_info": {
   "codemirror_mode": {
    "name": "ipython",
    "version": 3
   },
   "file_extension": ".py",
   "mimetype": "text/x-python",
   "name": "python",
   "nbconvert_exporter": "python",
   "pygments_lexer": "ipython3",
   "version": "3.9.7"
  }
 },
 "nbformat": 4,
 "nbformat_minor": 5
}
