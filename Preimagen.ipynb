{
 "cells": [
  {
   "cell_type": "markdown",
   "id": "124a41c3",
   "metadata": {},
   "source": [
    "# Problema 1"
   ]
  },
  {
   "cell_type": "code",
   "execution_count": 154,
   "id": "a4f2792c",
   "metadata": {},
   "outputs": [],
   "source": [
    "x = {-4,-3,-2,-1,0,1,2,3,4}\n",
    "y = {0,1,4,9,16}\n",
    "def f(x) : return x**2"
   ]
  },
  {
   "cell_type": "code",
   "execution_count": 155,
   "id": "0b79d7e9",
   "metadata": {},
   "outputs": [],
   "source": [
    "def finv(f, E, D) :\n",
    "    yinv = set()\n",
    "    y = set()\n",
    "    x = set()\n",
    "    for n in D:\n",
    "        y.add(f(n))\n",
    "    for out in E :\n",
    "        if(out in y) :\n",
    "            for inp in D :\n",
    "                if (f(inp) == out) :\n",
    "                    x.add(inp)\n",
    "\n",
    "    return x"
   ]
  },
  {
   "cell_type": "code",
   "execution_count": 153,
   "id": "655f3487",
   "metadata": {
    "scrolled": false
   },
   "outputs": [
    {
     "data": {
      "text/plain": [
       "{-4, -3, -2, -1, 0, 1, 2, 3, 4}"
      ]
     },
     "execution_count": 153,
     "metadata": {},
     "output_type": "execute_result"
    }
   ],
   "source": [
    "finv(f, y, x)"
   ]
  },
  {
   "cell_type": "markdown",
   "id": "05be6a91",
   "metadata": {},
   "source": [
    "# Problema 2"
   ]
  },
  {
   "cell_type": "code",
   "execution_count": 86,
   "id": "2e84178b",
   "metadata": {},
   "outputs": [],
   "source": [
    "tD = [{}, {0}, {-3,-1,1,3}, {-4,-2,2,4}, {-3,-1,0,1,3}, {-4,2,0,2,4}, {-4,-3,-2,-1,1,2,3,4}, {-4,-3,-2,-1,0,1,2,3,4}]\n",
    "tI = [{}, {0}, {1,9}, {4,16}, {0,1,9}, {0,4,16}, {1,4,9,16}, {0,1,4,9,16}]"
   ]
  },
  {
   "cell_type": "code",
   "execution_count": 176,
   "id": "eb8066f7",
   "metadata": {},
   "outputs": [],
   "source": [
    "def finvtopo(f, E, D) :\n",
    "    yinv = list()\n",
    "    for e in E :\n",
    "        for d in D :\n",
    "            inv = set((finv(f,e,d)))\n",
    "            if inv not in yinv:\n",
    "                yinv.append(inv)\n",
    "    return yinv"
   ]
  },
  {
   "cell_type": "code",
   "execution_count": 177,
   "id": "e206e543",
   "metadata": {
    "scrolled": false
   },
   "outputs": [
    {
     "data": {
      "text/plain": [
       "[set(),\n",
       " {0},\n",
       " {-3, -1, 1, 3},\n",
       " {-4, -2, 2, 4},\n",
       " {-4, 2, 4},\n",
       " {-3, -1, 0, 1, 3},\n",
       " {-4, 0, 2, 4},\n",
       " {-4, -2, 0, 2, 4},\n",
       " {-4, -3, -2, -1, 1, 2, 3, 4},\n",
       " {-4, -3, -2, -1, 0, 1, 2, 3, 4}]"
      ]
     },
     "execution_count": 177,
     "metadata": {},
     "output_type": "execute_result"
    }
   ],
   "source": [
    "finvtopo(f, tI, tD)"
   ]
  },
  {
   "cell_type": "markdown",
   "id": "a4899074",
   "metadata": {},
   "source": [
    "# Problema 3"
   ]
  },
  {
   "cell_type": "code",
   "execution_count": 207,
   "id": "a8a7ceb3",
   "metadata": {},
   "outputs": [],
   "source": [
    "def esContinua(f, tD, tI) :\n",
    "    for i in tI:\n",
    "        sale = 0\n",
    "        for d in tD :\n",
    "            if(finv(f, i, d) in tD) :\n",
    "                sale = 1\n",
    "            else :\n",
    "                sale = 0\n",
    "        if(sale == 0) :\n",
    "            return 'No es continua'\n",
    "    return 'Es continua'"
   ]
  },
  {
   "cell_type": "code",
   "execution_count": 258,
   "id": "5d8c8aa9",
   "metadata": {},
   "outputs": [],
   "source": [
    "def discreteTopo(X) :\n",
    "    discrete = []\n",
    "    discrete.append(set())\n",
    "    while len(discrete) != 2**len(X) :\n",
    "        for x in X :\n",
    "            for y in discrete :\n",
    "                #print({x})\n",
    "                union = y.union({x})\n",
    "                if(union not in discrete) :\n",
    "                    discrete.append(union)\n",
    "    return discrete\n",
    "                \n",
    "        "
   ]
  },
  {
   "cell_type": "markdown",
   "id": "4f29a9ce",
   "metadata": {},
   "source": [
    "a)"
   ]
  },
  {
   "cell_type": "code",
   "execution_count": 224,
   "id": "e223caef",
   "metadata": {},
   "outputs": [
    {
     "data": {
      "text/plain": [
       "'Es continua'"
      ]
     },
     "execution_count": 224,
     "metadata": {},
     "output_type": "execute_result"
    }
   ],
   "source": [
    "tD = [set(), x]\n",
    "tI = [set(), y]\n",
    "esContinua(f, tD, tI)"
   ]
  },
  {
   "cell_type": "markdown",
   "id": "ea643929",
   "metadata": {},
   "source": [
    "b)"
   ]
  },
  {
   "cell_type": "code",
   "execution_count": 265,
   "id": "1ecae70d",
   "metadata": {},
   "outputs": [
    {
     "data": {
      "text/plain": [
       "'Es continua'"
      ]
     },
     "execution_count": 265,
     "metadata": {},
     "output_type": "execute_result"
    }
   ],
   "source": [
    "tI = discreteTopo(y)\n",
    "def f2(x) : return 0\n",
    "esContinua(f2, tI, tI)"
   ]
  },
  {
   "cell_type": "markdown",
   "id": "e9f1ce5e",
   "metadata": {},
   "source": [
    "c)"
   ]
  },
  {
   "cell_type": "code",
   "execution_count": 267,
   "id": "5c24b75b",
   "metadata": {
    "scrolled": true
   },
   "outputs": [
    {
     "data": {
      "text/plain": [
       "'Es continua'"
      ]
     },
     "execution_count": 267,
     "metadata": {},
     "output_type": "execute_result"
    }
   ],
   "source": [
    "tD = discreteTopo(x)\n",
    "def f3(x) : return -x\n",
    "esContinua(f3, tD, tD)"
   ]
  },
  {
   "cell_type": "markdown",
   "id": "3f971963",
   "metadata": {},
   "source": [
    "d)"
   ]
  },
  {
   "cell_type": "code",
   "execution_count": 270,
   "id": "87af1102",
   "metadata": {},
   "outputs": [
    {
     "data": {
      "text/plain": [
       "'Es continua'"
      ]
     },
     "execution_count": 270,
     "metadata": {},
     "output_type": "execute_result"
    }
   ],
   "source": [
    "tD = [set(), {0},{-4,-3,-2,-1}, {1,2,3,4}, {0,1,2,3,4}, {0,-1,-2,-3,-4},{-4,-3,-2,-1,1,2,3,4}, x]\n",
    "esContinua(f3, tD, tD)"
   ]
  }
 ],
 "metadata": {
  "kernelspec": {
   "display_name": "Python 3 (ipykernel)",
   "language": "python",
   "name": "python3"
  },
  "language_info": {
   "codemirror_mode": {
    "name": "ipython",
    "version": 3
   },
   "file_extension": ".py",
   "mimetype": "text/x-python",
   "name": "python",
   "nbconvert_exporter": "python",
   "pygments_lexer": "ipython3",
   "version": "3.9.7"
  }
 },
 "nbformat": 4,
 "nbformat_minor": 5
}
